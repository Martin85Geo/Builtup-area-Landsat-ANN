{
 "cells": [
  {
   "cell_type": "code",
   "execution_count": 2,
   "metadata": {},
   "outputs": [
    {
     "name": "stdout",
     "output_type": "stream",
     "text": [
      "Requirement already satisfied: pyrsgis in c:\\users\\ridho\\appdata\\roaming\\python\\python37\\site-packages (0.3.1)\n"
     ]
    }
   ],
   "source": [
    "#Install Pyrsgis\n",
    "!pip install pyrsgis"
   ]
  },
  {
   "cell_type": "code",
   "execution_count": 1,
   "metadata": {},
   "outputs": [
    {
     "name": "stderr",
     "output_type": "stream",
     "text": [
      "Cloning into 'Builtup-area-Landsat-ANN'...\n"
     ]
    }
   ],
   "source": [
    "#Get dataset\n",
    "!git clone https://github.com/ridhodwidharmawan/Builtup-area-Landsat-ANN"
   ]
  },
  {
   "cell_type": "code",
   "execution_count": 2,
   "metadata": {},
   "outputs": [
    {
     "name": "stdout",
     "output_type": "stream",
     "text": [
      "Warning! matplotlib_scalebar library not found.\n"
     ]
    }
   ],
   "source": [
    "import os\n",
    "import numpy as np\n",
    "from tensorflow import keras\n",
    "from pyrsgis import raster\n",
    "from pyrsgis.convert import changeDimension\n",
    "from sklearn.model_selection import train_test_split\n",
    "from sklearn.metrics import confusion_matrix, precision_score, recall_score"
   ]
  },
  {
   "cell_type": "code",
   "execution_count": 3,
   "metadata": {},
   "outputs": [],
   "source": [
    "# Change the directory\n",
    "os.chdir(\"Builtup-area-Landsat-ANN\\dataset\")"
   ]
  },
  {
   "cell_type": "code",
   "execution_count": 4,
   "metadata": {},
   "outputs": [],
   "source": [
    "# Assign file names\n",
    "subset_yogya = 'subset_l8_yogya.tif'\n",
    "builtup_yogya = 'builtup_yogya.tif'\n",
    "subset_jateng = 'subset_l8_jateng.tif'"
   ]
  },
  {
   "cell_type": "code",
   "execution_count": 5,
   "metadata": {},
   "outputs": [],
   "source": [
    "# Read the rasters as array\n",
    "ds1, featuresyogya = raster.read(subset_yogya, bands='all')\n",
    "ds2, labelyogya = raster.read(builtup_yogya, bands=1)\n",
    "ds3, featuresjateng = raster.read(subset_jateng, bands='all')"
   ]
  },
  {
   "cell_type": "code",
   "execution_count": 6,
   "metadata": {},
   "outputs": [
    {
     "name": "stdout",
     "output_type": "stream",
     "text": [
      "Yogya multispectral image shape:  (6, 844, 843)\n",
      "Yogya  builtup label image shape:  (844, 843)\n",
      "Jateng multispectral image shape:  (6, 4052, 3292)\n"
     ]
    }
   ],
   "source": [
    "# Print the size of the arrays\n",
    "print(\"Yogya multispectral image shape: \", featuresyogya.shape)\n",
    "print(\"Yogya  builtup label image shape: \", labelyogya.shape)\n",
    "print(\"Jateng multispectral image shape: \", featuresjateng.shape)"
   ]
  },
  {
   "cell_type": "code",
   "execution_count": 7,
   "metadata": {},
   "outputs": [],
   "source": [
    "# Clean the labelled data to replace NoData values by zero\n",
    "labelyogya = (labelyogya == 1).astype(int)"
   ]
  },
  {
   "cell_type": "code",
   "execution_count": 9,
   "metadata": {},
   "outputs": [],
   "source": [
    "# Reshape the array to single dimensional array\n",
    "featuresyogya = changeDimension(featuresyogya)\n",
    "labelyogya = changeDimension (labelyogya)\n",
    "featuresjateng = changeDimension(featuresjateng)\n",
    "nBands = featuresyogya.shape[1]"
   ]
  },
  {
   "cell_type": "code",
   "execution_count": 10,
   "metadata": {},
   "outputs": [
    {
     "name": "stdout",
     "output_type": "stream",
     "text": [
      "Yogya multispectral image shape:  (711492, 6)\n",
      "Yogya builtup label image shape:  (711492,)\n",
      "Jateng multispectral image shape:  (13339184, 6)\n"
     ]
    }
   ],
   "source": [
    "# Print new dimension size\n",
    "print(\"Yogya multispectral image shape: \", featuresyogya.shape)\n",
    "print(\"Yogya builtup label image shape: \", labelyogya.shape)\n",
    "print(\"Jateng multispectral image shape: \", featuresjateng.shape)"
   ]
  },
  {
   "cell_type": "code",
   "execution_count": 12,
   "metadata": {},
   "outputs": [],
   "source": [
    "# Split testing and training datasets\n",
    "xTrain, xTest, yTrain, yTest = train_test_split(featuresyogya, labelyogya, test_size=0.4, random_state=42)"
   ]
  },
  {
   "cell_type": "code",
   "execution_count": 13,
   "metadata": {},
   "outputs": [
    {
     "name": "stdout",
     "output_type": "stream",
     "text": [
      "(426895, 6)\n",
      "(426895,)\n"
     ]
    }
   ],
   "source": [
    "# Print train size\n",
    "print(xTrain.shape)\n",
    "print(yTrain.shape)"
   ]
  },
  {
   "cell_type": "code",
   "execution_count": 14,
   "metadata": {},
   "outputs": [
    {
     "name": "stdout",
     "output_type": "stream",
     "text": [
      "(284597, 6)\n",
      "(284597,)\n"
     ]
    }
   ],
   "source": [
    "# Print test size\n",
    "print(xTest.shape)\n",
    "print(yTest.shape)"
   ]
  },
  {
   "cell_type": "code",
   "execution_count": 15,
   "metadata": {},
   "outputs": [],
   "source": [
    "# Normalise the data\n",
    "xTrain = xTrain / 10000\n",
    "xTest = xTest / 10000\n",
    "featuresjateng = featuresjateng / 10000"
   ]
  },
  {
   "cell_type": "code",
   "execution_count": 16,
   "metadata": {},
   "outputs": [],
   "source": [
    "# Reshape the data\n",
    "xTrain = xTrain.reshape((xTrain.shape[0], 1, xTrain.shape[1]))\n",
    "xTest = xTest.reshape((xTest.shape[0], 1, xTest.shape[1]))\n",
    "featuresjateng = featuresjateng.reshape((featuresjateng.shape[0], 1, featuresjateng.shape[1]))"
   ]
  },
  {
   "cell_type": "code",
   "execution_count": 17,
   "metadata": {},
   "outputs": [
    {
     "name": "stdout",
     "output_type": "stream",
     "text": [
      "(426895, 1, 6) (284597, 1, 6) (13339184, 1, 6)\n"
     ]
    }
   ],
   "source": [
    "# Print the shape of reshaped data\n",
    "print(xTrain.shape, xTest.shape, featuresjateng.shape)"
   ]
  },
  {
   "cell_type": "code",
   "execution_count": 18,
   "metadata": {},
   "outputs": [],
   "source": [
    "# Define the parameters of the model\n",
    "model = keras.Sequential([\n",
    "    keras.layers.Flatten(input_shape=(1, nBands)),\n",
    "    keras.layers.Dense(14, activation='relu'),\n",
    "    keras.layers.Dense(2, activation='softmax')])"
   ]
  },
  {
   "cell_type": "code",
   "execution_count": 19,
   "metadata": {},
   "outputs": [],
   "source": [
    "# Define the accuracy metrics and parameters\n",
    "model.compile(optimizer=\"adam\", loss=\"sparse_categorical_crossentropy\", metrics=[\"accuracy\"])"
   ]
  },
  {
   "cell_type": "code",
   "execution_count": 20,
   "metadata": {},
   "outputs": [
    {
     "name": "stdout",
     "output_type": "stream",
     "text": [
      "Epoch 1/2\n",
      "13341/13341 [==============================] - 24s 2ms/step - loss: 0.4687 - accuracy: 0.7855\n",
      "Epoch 2/2\n",
      "13341/13341 [==============================] - 24s 2ms/step - loss: 0.4247 - accuracy: 0.8177\n"
     ]
    },
    {
     "data": {
      "text/plain": [
       "<tensorflow.python.keras.callbacks.History at 0x1ce8b503c08>"
      ]
     },
     "execution_count": 20,
     "metadata": {},
     "output_type": "execute_result"
    }
   ],
   "source": [
    "# Run the model\n",
    "model.fit(xTrain, yTrain, epochs=2)"
   ]
  },
  {
   "cell_type": "code",
   "execution_count": 21,
   "metadata": {},
   "outputs": [],
   "source": [
    "# Predict for test data \n",
    "yTestPredicted = model.predict(xTest)\n",
    "yTestPredicted = yTestPredicted[:,1]"
   ]
  },
  {
   "cell_type": "code",
   "execution_count": 22,
   "metadata": {},
   "outputs": [],
   "source": [
    "# Calculate and display the error metrics\n",
    "yTestPredicted = (yTestPredicted>0.5).astype(int)\n",
    "cMatrix = confusion_matrix(yTest, yTestPredicted)\n",
    "pScore = precision_score(yTest, yTestPredicted)\n",
    "rScore = recall_score(yTest, yTestPredicted)"
   ]
  },
  {
   "cell_type": "code",
   "execution_count": 23,
   "metadata": {},
   "outputs": [
    {
     "name": "stdout",
     "output_type": "stream",
     "text": [
      "Confusion matrix: for 14 nodes\n",
      " [[141472  23111]\n",
      " [ 27861  92153]]\n",
      "\n",
      "P-Score: 0.799, R-Score: 0.768\n"
     ]
    }
   ],
   "source": [
    "print(\"Confusion matrix: for 14 nodes\\n\", cMatrix)\n",
    "print(\"\\nP-Score: %.3f, R-Score: %.3f\" % (pScore, rScore))"
   ]
  },
  {
   "cell_type": "code",
   "execution_count": 25,
   "metadata": {},
   "outputs": [],
   "source": [
    "predicted = model.predict(featuresjateng)\n",
    "predicted = predicted[:,1]"
   ]
  },
  {
   "cell_type": "code",
   "execution_count": 26,
   "metadata": {},
   "outputs": [],
   "source": [
    "#Export raster\n",
    "prediction = np.reshape(predicted, (ds3.RasterYSize, ds3.RasterXSize))\n",
    "outFile = 'builtup_predicted_l8_jateng_2018.tif'\n",
    "raster.export(prediction, ds3, filename=outFile, dtype='float')"
   ]
  }
 ],
 "metadata": {
  "kernelspec": {
   "display_name": "Python 3",
   "language": "python",
   "name": "python3"
  },
  "language_info": {
   "codemirror_mode": {
    "name": "ipython",
    "version": 3
   },
   "file_extension": ".py",
   "mimetype": "text/x-python",
   "name": "python",
   "nbconvert_exporter": "python",
   "pygments_lexer": "ipython3",
   "version": "3.7.7"
  }
 },
 "nbformat": 4,
 "nbformat_minor": 4
}
